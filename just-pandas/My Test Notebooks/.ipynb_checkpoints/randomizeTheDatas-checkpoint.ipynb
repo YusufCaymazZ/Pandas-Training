{
 "cells": [
  {
   "cell_type": "markdown",
   "id": "3d9fc98a-4ac1-4725-8527-0ced4729422b",
   "metadata": {},
   "source": [
    "# What will we need for this this test notebook\n",
    "\n",
    "* Seaborn for visualization.\n",
    "    * !pip install seaborn\n",
    "    * !pip install matplotlib\n",
    "* Numpy for take the data numbers randomly.\n",
    "    * !pip install numpy\n",
    "* Pandas for creating data frame and converting to csv file.\n",
    "    * !pip install pandas"
   ]
  },
  {
   "cell_type": "code",
   "execution_count": 72,
   "id": "d22b9dbd-44f0-41d9-8c7e-c22ba3fe72a7",
   "metadata": {
    "tags": []
   },
   "outputs": [
    {
     "name": "stdout",
     "output_type": "stream",
     "text": [
      "Requirement already satisfied: seaborn in c:\\users\\cayma\\anaconda3\\envs\\ml\\lib\\site-packages (0.13.0)\n",
      "Requirement already satisfied: numpy!=1.24.0,>=1.20 in c:\\users\\cayma\\anaconda3\\envs\\ml\\lib\\site-packages (from seaborn) (1.24.1)\n",
      "Requirement already satisfied: pandas>=1.2 in c:\\users\\cayma\\anaconda3\\envs\\ml\\lib\\site-packages (from seaborn) (2.1.1)\n",
      "Requirement already satisfied: matplotlib!=3.6.1,>=3.3 in c:\\users\\cayma\\anaconda3\\envs\\ml\\lib\\site-packages (from seaborn) (3.8.1)\n",
      "Requirement already satisfied: contourpy>=1.0.1 in c:\\users\\cayma\\anaconda3\\envs\\ml\\lib\\site-packages (from matplotlib!=3.6.1,>=3.3->seaborn) (1.2.0)\n",
      "Requirement already satisfied: cycler>=0.10 in c:\\users\\cayma\\anaconda3\\envs\\ml\\lib\\site-packages (from matplotlib!=3.6.1,>=3.3->seaborn) (0.12.1)\n",
      "Requirement already satisfied: fonttools>=4.22.0 in c:\\users\\cayma\\anaconda3\\envs\\ml\\lib\\site-packages (from matplotlib!=3.6.1,>=3.3->seaborn) (4.44.0)\n",
      "Requirement already satisfied: kiwisolver>=1.3.1 in c:\\users\\cayma\\anaconda3\\envs\\ml\\lib\\site-packages (from matplotlib!=3.6.1,>=3.3->seaborn) (1.4.5)\n",
      "Requirement already satisfied: packaging>=20.0 in c:\\users\\cayma\\anaconda3\\envs\\ml\\lib\\site-packages (from matplotlib!=3.6.1,>=3.3->seaborn) (23.1)\n",
      "Requirement already satisfied: pillow>=8 in c:\\users\\cayma\\anaconda3\\envs\\ml\\lib\\site-packages (from matplotlib!=3.6.1,>=3.3->seaborn) (9.3.0)\n",
      "Requirement already satisfied: pyparsing>=2.3.1 in c:\\users\\cayma\\anaconda3\\envs\\ml\\lib\\site-packages (from matplotlib!=3.6.1,>=3.3->seaborn) (3.1.1)\n",
      "Requirement already satisfied: python-dateutil>=2.7 in c:\\users\\cayma\\anaconda3\\envs\\ml\\lib\\site-packages (from matplotlib!=3.6.1,>=3.3->seaborn) (2.8.2)\n",
      "Requirement already satisfied: pytz>=2020.1 in c:\\users\\cayma\\anaconda3\\envs\\ml\\lib\\site-packages (from pandas>=1.2->seaborn) (2023.3.post1)\n",
      "Requirement already satisfied: tzdata>=2022.1 in c:\\users\\cayma\\anaconda3\\envs\\ml\\lib\\site-packages (from pandas>=1.2->seaborn) (2023.3)\n",
      "Requirement already satisfied: six>=1.5 in c:\\users\\cayma\\anaconda3\\envs\\ml\\lib\\site-packages (from python-dateutil>=2.7->matplotlib!=3.6.1,>=3.3->seaborn) (1.16.0)\n",
      "Requirement already satisfied: pandas in c:\\users\\cayma\\anaconda3\\envs\\ml\\lib\\site-packages (2.1.1)\n",
      "Requirement already satisfied: numpy>=1.22.4 in c:\\users\\cayma\\anaconda3\\envs\\ml\\lib\\site-packages (from pandas) (1.24.1)\n",
      "Requirement already satisfied: python-dateutil>=2.8.2 in c:\\users\\cayma\\anaconda3\\envs\\ml\\lib\\site-packages (from pandas) (2.8.2)\n",
      "Requirement already satisfied: pytz>=2020.1 in c:\\users\\cayma\\anaconda3\\envs\\ml\\lib\\site-packages (from pandas) (2023.3.post1)\n",
      "Requirement already satisfied: tzdata>=2022.1 in c:\\users\\cayma\\anaconda3\\envs\\ml\\lib\\site-packages (from pandas) (2023.3)\n",
      "Requirement already satisfied: six>=1.5 in c:\\users\\cayma\\anaconda3\\envs\\ml\\lib\\site-packages (from python-dateutil>=2.8.2->pandas) (1.16.0)\n",
      "Requirement already satisfied: numpy in c:\\users\\cayma\\anaconda3\\envs\\ml\\lib\\site-packages (1.24.1)\n",
      "Requirement already satisfied: matplotlib in c:\\users\\cayma\\anaconda3\\envs\\ml\\lib\\site-packages (3.8.1)\n",
      "Requirement already satisfied: contourpy>=1.0.1 in c:\\users\\cayma\\anaconda3\\envs\\ml\\lib\\site-packages (from matplotlib) (1.2.0)\n",
      "Requirement already satisfied: cycler>=0.10 in c:\\users\\cayma\\anaconda3\\envs\\ml\\lib\\site-packages (from matplotlib) (0.12.1)\n",
      "Requirement already satisfied: fonttools>=4.22.0 in c:\\users\\cayma\\anaconda3\\envs\\ml\\lib\\site-packages (from matplotlib) (4.44.0)\n",
      "Requirement already satisfied: kiwisolver>=1.3.1 in c:\\users\\cayma\\anaconda3\\envs\\ml\\lib\\site-packages (from matplotlib) (1.4.5)\n",
      "Requirement already satisfied: numpy<2,>=1.21 in c:\\users\\cayma\\anaconda3\\envs\\ml\\lib\\site-packages (from matplotlib) (1.24.1)\n",
      "Requirement already satisfied: packaging>=20.0 in c:\\users\\cayma\\anaconda3\\envs\\ml\\lib\\site-packages (from matplotlib) (23.1)\n",
      "Requirement already satisfied: pillow>=8 in c:\\users\\cayma\\anaconda3\\envs\\ml\\lib\\site-packages (from matplotlib) (9.3.0)\n",
      "Requirement already satisfied: pyparsing>=2.3.1 in c:\\users\\cayma\\anaconda3\\envs\\ml\\lib\\site-packages (from matplotlib) (3.1.1)\n",
      "Requirement already satisfied: python-dateutil>=2.7 in c:\\users\\cayma\\anaconda3\\envs\\ml\\lib\\site-packages (from matplotlib) (2.8.2)\n",
      "Requirement already satisfied: six>=1.5 in c:\\users\\cayma\\anaconda3\\envs\\ml\\lib\\site-packages (from python-dateutil>=2.7->matplotlib) (1.16.0)\n"
     ]
    }
   ],
   "source": [
    "!pip install seaborn\n",
    "!pip install pandas\n",
    "!pip install numpy\n",
    "!pip install matplotlib"
   ]
  },
  {
   "cell_type": "code",
   "execution_count": 73,
   "id": "44c0a2e0-2679-41c1-a3bd-7930f0c7b1c7",
   "metadata": {
    "tags": []
   },
   "outputs": [],
   "source": [
    "import pandas as pd\n",
    "import numpy as np\n",
    "import seaborn as sns\n",
    "import matplotlib.pyplot as plt\n",
    "\n"
   ]
  },
  {
   "cell_type": "markdown",
   "id": "3f557e71-9ba3-49a3-8c21-2283ca7eec5c",
   "metadata": {},
   "source": [
    "## What will i try to do?\n",
    "\n",
    "I will take some random nums from np library and i will add that numbers to random data rows.\n",
    "If i have 10 rows i will take 10 nums cause of i don't want to have null rows."
   ]
  },
  {
   "cell_type": "markdown",
   "id": "c3965681-922b-4017-9d38-48309c222615",
   "metadata": {},
   "source": [
    "### Lets take some random numbers for our age column."
   ]
  },
  {
   "cell_type": "code",
   "execution_count": 74,
   "id": "96759d70-0d7a-4b02-89a0-f15a5c628887",
   "metadata": {
    "tags": []
   },
   "outputs": [
    {
     "name": "stdout",
     "output_type": "stream",
     "text": [
      "[29 41 16 44 30 42 39 38 34 28 32 16 18 42 39 44 32 22 37 27 24 20 32 16\n",
      " 34 32 16 39 21 28]\n"
     ]
    }
   ],
   "source": [
    "ages = np.random.randint(15,high = 46, size=30,dtype = int)\n",
    "print(ages)"
   ]
  },
  {
   "cell_type": "markdown",
   "id": "4a8f7fe9-21c5-41a9-a1f7-8e0944a592af",
   "metadata": {},
   "source": [
    "### Time to take 30 random values for persons sex. (we created 30 values cause of we took 30 value for age.)"
   ]
  },
  {
   "cell_type": "code",
   "execution_count": 75,
   "id": "31c39881-30e0-4cdb-ab81-40e9f1605d44",
   "metadata": {
    "tags": []
   },
   "outputs": [
    {
     "name": "stdout",
     "output_type": "stream",
     "text": [
      "['female' 'female' 'male' 'male' 'female' 'male' 'male' 'male' 'female'\n",
      " 'female' 'female' 'female' 'male' 'female' 'female' 'female' 'male'\n",
      " 'female' 'female' 'male' 'male' 'male' 'male' 'female' 'female' 'male'\n",
      " 'male' 'male' 'female' 'female']\n"
     ]
    }
   ],
   "source": [
    "sex = [\"female\",\"male\"]\n",
    "random_sexs = np.random.choice(sex,size = 30)\n",
    "print(random_sexs)"
   ]
  },
  {
   "cell_type": "markdown",
   "id": "91d4bb65-9ad5-4482-baa1-c1e5630884d2",
   "metadata": {},
   "source": [
    "### Time to take 30 random values for is person survive or not. \n",
    "* 1 = survived.\n",
    "* 0 = died."
   ]
  },
  {
   "cell_type": "code",
   "execution_count": 76,
   "id": "42318dd3-f1a6-4da9-ba51-66ca0a7ff5d2",
   "metadata": {
    "tags": []
   },
   "outputs": [
    {
     "name": "stdout",
     "output_type": "stream",
     "text": [
      "[1 0 0 0 1 0 1 0 1 0 0 0 1 1 1 0 0 1 0 0 0 1 0 1 1 1 0 0 0 0]\n"
     ]
    }
   ],
   "source": [
    "is_survived = np.random.randint(0,high = 2, size=30,dtype = int)\n",
    "print(is_survived)"
   ]
  },
  {
   "cell_type": "markdown",
   "id": "18c9e528-79fb-4853-959d-b4bfa04bbd3c",
   "metadata": {},
   "source": [
    "I wrote 2 for high cause values will be less than high."
   ]
  },
  {
   "cell_type": "markdown",
   "id": "9581c5bd-e32c-4e53-8b80-8533e4dda70c",
   "metadata": {},
   "source": [
    "### Time to create our dataframe"
   ]
  },
  {
   "cell_type": "code",
   "execution_count": 77,
   "id": "0b26498d-65d3-46c3-aa73-d2620ddc77e7",
   "metadata": {
    "tags": []
   },
   "outputs": [],
   "source": [
    "df = pd.DataFrame()"
   ]
  },
  {
   "cell_type": "code",
   "execution_count": 78,
   "id": "ff3aa0c1-fae6-432b-959f-eeafe6585a4c",
   "metadata": {
    "tags": []
   },
   "outputs": [],
   "source": [
    "column_names = ['Sex','Ages','Survived']\n",
    "df[column_names[0]] = random_sexs\n",
    "df[column_names[1]] = ages\n",
    "df[column_names[2]] = is_survived"
   ]
  },
  {
   "cell_type": "code",
   "execution_count": 79,
   "id": "1c299e45-9536-4379-95c6-e089043cd6e2",
   "metadata": {
    "tags": []
   },
   "outputs": [],
   "source": [
    "df.head()\n",
    "df.to_csv(\"test.csv\",index = False)"
   ]
  },
  {
   "cell_type": "code",
   "execution_count": 85,
   "id": "192f7767-8969-4ae8-a938-dd8dfea8c4da",
   "metadata": {
    "tags": []
   },
   "outputs": [
    {
     "data": {
      "image/png": "[encoded data removed]",
      "text/plain": [
       "<Figure size 598x500 with 1 Axes>"
      ]
     },
     "metadata": {},
     "output_type": "display_data"
    }
   ],
   "source": [
    "\n",
    "df = pd.read_csv(\"test.csv\")\n",
    "sns.relplot(\n",
    "    data=df,\n",
    "    x=\"Ages\", y=\"Survived\", hue=\"Sex\",palette=\"viridis\"\n",
    ")\n",
    "plt.show()\n",
    "\n"
   ]
  },
  {
   "cell_type": "markdown",
   "id": "6ee675d1-5880-466c-8cca-6ab85f7be689",
   "metadata": {},
   "source": [
    "## About Visualization \n",
    "Our data had 2 values for \"Survive\" and \"Sex\" so visualization is being not good enough.\n",
    "\n",
    "What should we can about that?\n",
    "* We can add more columns with more randomization.\n",
    "* That columns shouldn't be less than 4 different values if you want to make visualization better.\n",
    "* We can search different graphs. It is not have to be histogram or something like that."
   ]
  },
  {
   "cell_type": "markdown",
   "id": "2ce92340-ba35-4f06-88f9-5ddb4a310b55",
   "metadata": {},
   "source": [
    "## I will do better this in future."
   ]
  },
  {
   "cell_type": "code",
   "execution_count": null,
   "id": "afbeddb0-2279-434b-9a2f-46afab71e7ed",
   "metadata": {},
   "outputs": [],
   "source": []
  }
 ],
 "metadata": {
  "kernelspec": {
   "display_name": "Python 3 (ipykernel)",
   "language": "python",
   "name": "python3"
  },
  "language_info": {
   "codemirror_mode": {
    "name": "ipython",
    "version": 3
   },
   "file_extension": ".py",
   "mimetype": "text/x-python",
   "name": "python",
   "nbconvert_exporter": "python",
   "pygments_lexer": "ipython3",
   "version": "3.10.13"
  }
 },
 "nbformat": 4,
 "nbformat_minor": 5
}
